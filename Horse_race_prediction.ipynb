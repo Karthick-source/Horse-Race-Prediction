{
 "cells": [
  {
   "cell_type": "code",
   "execution_count": 7,
   "id": "e04cdbff-300b-4267-8ddb-13a95e71f8ae",
   "metadata": {},
   "outputs": [],
   "source": [
    "import pandas as pd\n",
    "import os"
   ]
  },
  {
   "cell_type": "code",
   "execution_count": 3,
   "id": "141156fc-1714-4dd9-8558-047437bb86c7",
   "metadata": {},
   "outputs": [],
   "source": [
    "#paths\n",
    "\n",
    "data= r\"C:\\Users\\admin\\python\\Horse Race Prediction\"\n",
    "forward =r\"C:\\Users\\admin\\python\\Horse Race Prediction\\forward.csv\""
   ]
  },
  {
   "cell_type": "code",
   "execution_count": 9,
   "id": "28d3f24f-bed3-4293-b798-5e0b71256ffa",
   "metadata": {},
   "outputs": [],
   "source": [
    "#loading forward data\n",
    "\n",
    "forward = pd.read_csv(\"forward.csv\")"
   ]
  },
  {
   "cell_type": "code",
   "execution_count": 13,
   "id": "16df5869-3b9d-4972-b4bb-1a58d3a50abf",
   "metadata": {},
   "outputs": [
    {
     "name": "stderr",
     "output_type": "stream",
     "text": [
      "C:\\Users\\admin\\AppData\\Local\\Temp\\ipykernel_13848\\1159542622.py:10: DtypeWarning: Columns (10) have mixed types. Specify dtype option on import or set low_memory=False.\n",
      "  horses =pd.read_csv(horse_file)\n",
      "C:\\Users\\admin\\AppData\\Local\\Temp\\ipykernel_13848\\1159542622.py:10: DtypeWarning: Columns (27) have mixed types. Specify dtype option on import or set low_memory=False.\n",
      "  horses =pd.read_csv(horse_file)\n"
     ]
    }
   ],
   "source": [
    "#load and combine horses and race dataset\n",
    "\n",
    "horse_races_data=[]\n",
    "\n",
    "for year in range(1990,2021):\n",
    "    horse_file=os.path.join(data,f\"horses_{year}.csv\")\n",
    "    race_file=os.path.join(data,f\"races_{year}.csv\")\n",
    "\n",
    "    if os.path.exists(horse_file) and os.path.exists(race_file):\n",
    "        horses =pd.read_csv(horse_file)\n",
    "        races =pd.read_csv(race_file)"
   ]
  },
  {
   "cell_type": "code",
   "execution_count": null,
   "id": "a371ca62-51f8-429a-a3c2-ed297a09e342",
   "metadata": {},
   "outputs": [],
   "source": []
  }
 ],
 "metadata": {
  "kernelspec": {
   "display_name": "Python 3 (ipykernel)",
   "language": "python",
   "name": "python3"
  },
  "language_info": {
   "codemirror_mode": {
    "name": "ipython",
    "version": 3
   },
   "file_extension": ".py",
   "mimetype": "text/x-python",
   "name": "python",
   "nbconvert_exporter": "python",
   "pygments_lexer": "ipython3",
   "version": "3.12.4"
  }
 },
 "nbformat": 4,
 "nbformat_minor": 5
}
