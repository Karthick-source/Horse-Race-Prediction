{
 "cells": [
  {
   "cell_type": "code",
   "execution_count": 57,
   "id": "e04cdbff-300b-4267-8ddb-13a95e71f8ae",
   "metadata": {},
   "outputs": [],
   "source": [
    "import pandas as pd\n",
    "import os"
   ]
  },
  {
   "cell_type": "code",
   "execution_count": 59,
   "id": "141156fc-1714-4dd9-8558-047437bb86c7",
   "metadata": {},
   "outputs": [],
   "source": [
    "#paths\n",
    "\n",
    "data= r\"C:\\Users\\admin\\python\\Horse Race Prediction\""
   ]
  },
  {
   "cell_type": "code",
   "execution_count": 61,
   "id": "28d3f24f-bed3-4293-b798-5e0b71256ffa",
   "metadata": {},
   "outputs": [],
   "source": [
    "#loading forward data\n",
    "\n",
    "forward = pd.read_csv(\"forward.csv\")"
   ]
  },
  {
   "cell_type": "code",
   "execution_count": 63,
   "id": "16df5869-3b9d-4972-b4bb-1a58d3a50abf",
   "metadata": {},
   "outputs": [
    {
     "name": "stderr",
     "output_type": "stream",
     "text": [
      "C:\\Users\\admin\\AppData\\Local\\Temp\\ipykernel_1320\\3649003440.py:10: DtypeWarning: Columns (10) have mixed types. Specify dtype option on import or set low_memory=False.\n",
      "  horses =pd.read_csv(horse_file)\n",
      "C:\\Users\\admin\\AppData\\Local\\Temp\\ipykernel_1320\\3649003440.py:10: DtypeWarning: Columns (27) have mixed types. Specify dtype option on import or set low_memory=False.\n",
      "  horses =pd.read_csv(horse_file)\n"
     ]
    }
   ],
   "source": [
    "#load and combine horses and race dataset\n",
    "\n",
    "horse_race_data=[]\n",
    "\n",
    "for year in range(1990,2021):\n",
    "    horse_file=os.path.join(data,f\"horses_{year}.csv\")\n",
    "    race_file=os.path.join(data,f\"races_{year}.csv\")\n",
    "\n",
    "    if os.path.exists(horse_file) and os.path.exists(race_file):\n",
    "        horses =pd.read_csv(horse_file)\n",
    "        races =pd.read_csv(race_file)\n",
    "\n",
    "#          #merge horses and races datasets on 'rid'\n",
    "#         combined_data = pd.merge(horses, races, on=\"rid\", how=\"inner\")\n",
    "#         horse_race_data.append(combined_data)\n",
    "\n",
    "# #combine into a single DataFrame\n",
    "# df = pd.concat(horse_race_data, ignore_index=True)\n",
    "\n",
    " #save dataset into csv\n",
    "horses.to_csv(\"horses.csv\",index=False)\n",
    "races.to_csv(\"races.csv\",index=False)\n",
    "# print(\"saved successfully\")"
   ]
  },
  {
   "cell_type": "code",
   "execution_count": 13,
   "id": "72103ffb-6380-410a-9efa-b342239c519a",
   "metadata": {},
   "outputs": [
    {
     "name": "stderr",
     "output_type": "stream",
     "text": [
      "C:\\Users\\admin\\AppData\\Local\\Temp\\ipykernel_14144\\2409592757.py:3: DtypeWarning: Columns (31,36,42,44,45) have mixed types. Specify dtype option on import or set low_memory=False.\n",
      "  df=pd.read_csv(file_name)\n"
     ]
    }
   ],
   "source": [
    "# #load combined data\n",
    "# file_name= \"horse_race.csv\"\n",
    "# df=pd.read_csv(file_name)"
   ]
  },
  {
   "cell_type": "code",
   "execution_count": 2,
   "id": "751bf1ca-adbf-42b9-9af8-8df71c5d55c2",
   "metadata": {},
   "outputs": [],
   "source": [
    "# data cleaning"
   ]
  },
  {
   "cell_type": "code",
   "execution_count": 65,
   "id": "46ad7d0d-f2a0-4e29-b856-4f61598ba090",
   "metadata": {},
   "outputs": [
    {
     "name": "stdout",
     "output_type": "stream",
     "text": [
      "Missing values in Races DataFrame:\n",
      "rid             0.000000\n",
      "course          0.000000\n",
      "time            0.000000\n",
      "date            0.000000\n",
      "title           0.000000\n",
      "rclass         51.358659\n",
      "band           63.951602\n",
      "ages            0.000000\n",
      "distance        0.000000\n",
      "condition       0.000000\n",
      "hurdles        79.268622\n",
      "prizes          0.000000\n",
      "winningTime     0.000000\n",
      "prize           0.000000\n",
      "metric          0.000000\n",
      "countryCode     0.000000\n",
      "ncond           0.000000\n",
      "class           0.000000\n",
      "currency       37.265107\n",
      "dtype: float64\n",
      "\n",
      "Missing values in Horses DataFrame:\n",
      "rid              0.000000\n",
      "horseName        0.000000\n",
      "age              0.000000\n",
      "saddle           0.004013\n",
      "decimalPrice     0.000000\n",
      "isFav            0.000000\n",
      "trainerName      0.014046\n",
      "jockeyName       0.002007\n",
      "position         0.000000\n",
      "positionL       14.197428\n",
      "dist            24.046070\n",
      "weightSt         0.000000\n",
      "weightLb         0.000000\n",
      "overWeight      96.722693\n",
      "outHandicap     99.094393\n",
      "headGear        62.690201\n",
      "RPR             48.454649\n",
      "TR              68.066991\n",
      "OR              46.796600\n",
      "father           0.000000\n",
      "mother           0.000669\n",
      "gfather          0.024078\n",
      "runners          0.000000\n",
      "margin           0.000000\n",
      "weight           0.000000\n",
      "res_win          0.000000\n",
      "res_place        0.000000\n",
      "price           36.453017\n",
      "dtype: float64\n",
      "\n",
      "Missing values in Forward DataFrame:\n",
      "course           0.032633\n",
      "countryCode      0.000000\n",
      "marketTime       0.000000\n",
      "title            0.000000\n",
      "runners          0.000000\n",
      "condition        0.014833\n",
      "prize            0.000000\n",
      "rclass          31.790673\n",
      "horseName        0.000000\n",
      "trainerName      0.000000\n",
      "jockeyName       0.272932\n",
      "RPRc            16.604367\n",
      "TRc             29.927614\n",
      "OR              28.094221\n",
      "weightSt         0.000000\n",
      "weightLb         0.000000\n",
      "age              0.000000\n",
      "decimalPrice     0.000000\n",
      "dtype: float64\n"
     ]
    }
   ],
   "source": [
    "\n",
    "# Checking for missing values in races DataFrame\n",
    "\n",
    "print(\"Missing values in Races DataFrame:\")\n",
    "print(races.isnull().mean()*100)\n",
    "\n",
    "# Checking for missing values in horses DataFrame\n",
    "\n",
    "print(\"\\nMissing values in Horses DataFrame:\")\n",
    "print(horses.isnull().mean()*100)\n",
    "\n",
    "# Checking for missing values in forward DataFrame\n",
    "\n",
    "print(\"\\nMissing values in Forward DataFrame:\")\n",
    "print(forward.isnull().mean()*100)\n",
    "     "
   ]
  },
  {
   "cell_type": "code",
   "execution_count": 67,
   "id": "b63e1bd0-70b8-4ae8-9680-e3b63f7bc653",
   "metadata": {},
   "outputs": [],
   "source": [
    "#dropping columns which are 50% above null values\n",
    "\n",
    "threshold =len(horses)*0.55\n",
    "horses=horses.dropna(thresh=threshold,axis=1)\n",
    "\n",
    "threshold =len(races)*0.55\n",
    "races=races.dropna(thresh=threshold,axis=1)\n",
    "\n",
    "threshold =len(forward)*0.55\n",
    "forward=forward.dropna(thresh=threshold,axis=1)"
   ]
  },
  {
   "cell_type": "code",
   "execution_count": 69,
   "id": "11552001-7e0f-47b1-8e18-fe6a0a6fcf8e",
   "metadata": {},
   "outputs": [
    {
     "data": {
      "text/plain": [
       "rid              0.000000\n",
       "horseName        0.000000\n",
       "age              0.000000\n",
       "saddle           0.004013\n",
       "decimalPrice     0.000000\n",
       "isFav            0.000000\n",
       "trainerName      0.014046\n",
       "jockeyName       0.002007\n",
       "position         0.000000\n",
       "positionL       14.197428\n",
       "dist            24.046070\n",
       "weightSt         0.000000\n",
       "weightLb         0.000000\n",
       "father           0.000000\n",
       "mother           0.000669\n",
       "gfather          0.024078\n",
       "runners          0.000000\n",
       "margin           0.000000\n",
       "weight           0.000000\n",
       "res_win          0.000000\n",
       "res_place        0.000000\n",
       "price           36.453017\n",
       "dtype: float64"
      ]
     },
     "execution_count": 69,
     "metadata": {},
     "output_type": "execute_result"
    }
   ],
   "source": [
    "horses.isnull().mean()*100"
   ]
  },
  {
   "cell_type": "code",
   "execution_count": 71,
   "id": "65ccd0df-e2ad-4351-8e0d-10344d448fc7",
   "metadata": {},
   "outputs": [
    {
     "data": {
      "text/plain": [
       "positionL\n",
       ".5       12031\n",
       "nk       11160\n",
       ".75       9946\n",
       "1.25      7977\n",
       "1         7261\n",
       "         ...  \n",
       "91           2\n",
       "2.0          1\n",
       "7.0          1\n",
       "107          1\n",
       "24.75        1\n",
       "Name: count, Length: 171, dtype: int64"
      ]
     },
     "execution_count": 71,
     "metadata": {},
     "output_type": "execute_result"
    }
   ],
   "source": [
    "horses[\"positionL\"].value_counts()"
   ]
  },
  {
   "cell_type": "code",
   "execution_count": 73,
   "id": "2458b06c-45be-4d7f-bf82-39c3e90f9a14",
   "metadata": {},
   "outputs": [],
   "source": [
    "#mapping for non-numeric terms in positionL\n",
    "\n",
    "mapping={\n",
    "  \"shd\":0.1,\n",
    "   \"hd\":0.2,\n",
    "   \"nk\":0.3\n",
    "}\n",
    "\n",
    "#replacing\n",
    "horses[\"positionL\"] =horses[\"positionL\"].replace(mapping)\n",
    "#convert the column to numeric\n",
    "horses[\"positionL\"]=pd.to_numeric(horses[\"positionL\"],errors=\"coerce\")"
   ]
  },
  {
   "cell_type": "code",
   "execution_count": 75,
   "id": "452972ac-afc5-40e8-9bc9-1bc1e71de9fc",
   "metadata": {},
   "outputs": [
    {
     "data": {
      "text/plain": [
       "25640"
      ]
     },
     "execution_count": 75,
     "metadata": {},
     "output_type": "execute_result"
    }
   ],
   "source": [
    "horses[\"positionL\"].isnull().sum()"
   ]
  },
  {
   "cell_type": "code",
   "execution_count": 77,
   "id": "eb388bec-5946-4d62-85fe-cbb14fc98ee7",
   "metadata": {},
   "outputs": [
    {
     "data": {
      "text/plain": [
       "count    123873.000000\n",
       "mean          3.813783\n",
       "std           7.431375\n",
       "min           0.100000\n",
       "25%           0.500000\n",
       "50%           1.500000\n",
       "75%           3.750000\n",
       "max         107.000000\n",
       "Name: positionL, dtype: float64"
      ]
     },
     "execution_count": 77,
     "metadata": {},
     "output_type": "execute_result"
    }
   ],
   "source": [
    "horses['positionL'].describe()"
   ]
  },
  {
   "cell_type": "code",
   "execution_count": 79,
   "id": "cd91ccd0-ace8-43d2-8ab9-c5f4246d0f6a",
   "metadata": {},
   "outputs": [
    {
     "name": "stderr",
     "output_type": "stream",
     "text": [
      "C:\\Users\\admin\\AppData\\Local\\Temp\\ipykernel_1320\\3644971839.py:1: FutureWarning: A value is trying to be set on a copy of a DataFrame or Series through chained assignment using an inplace method.\n",
      "The behavior will change in pandas 3.0. This inplace method will never work because the intermediate object on which we are setting values always behaves as a copy.\n",
      "\n",
      "For example, when doing 'df[col].method(value, inplace=True)', try using 'df.method({col: value}, inplace=True)' or df[col] = df[col].method(value) instead, to perform the operation inplace on the original object.\n",
      "\n",
      "\n",
      "  horses['positionL'].fillna(horses['positionL'].median(),inplace=True)\n"
     ]
    }
   ],
   "source": [
    "horses['positionL'].fillna(horses['positionL'].median(),inplace=True)"
   ]
  },
  {
   "cell_type": "code",
   "execution_count": 81,
   "id": "da3eed38-242a-410c-aea3-43dfed6895a0",
   "metadata": {},
   "outputs": [
    {
     "data": {
      "text/plain": [
       "count     113561\n",
       "unique       819\n",
       "top         4.25\n",
       "freq        2083\n",
       "Name: dist, dtype: object"
      ]
     },
     "execution_count": 81,
     "metadata": {},
     "output_type": "execute_result"
    }
   ],
   "source": [
    "horses[\"dist\"].describe()"
   ]
  },
  {
   "cell_type": "code",
   "execution_count": 83,
   "id": "1b08f149-7e0e-4bb9-a419-be6cc5e7e482",
   "metadata": {},
   "outputs": [],
   "source": [
    "#coverting string into numeric\n",
    "horses[\"dist\"] =pd.to_numeric(horses[\"dist\"],errors=\"coerce\")\n"
   ]
  },
  {
   "cell_type": "code",
   "execution_count": 85,
   "id": "ab9a5b19-c643-4a61-ae4d-c0967bf6f8e8",
   "metadata": {},
   "outputs": [
    {
     "data": {
      "text/plain": [
       "count    113397.000000\n",
       "mean         14.912465\n",
       "std          18.235040\n",
       "min           0.250000\n",
       "25%           4.500000\n",
       "50%           8.750000\n",
       "75%          17.500000\n",
       "max         241.250000\n",
       "Name: dist, dtype: float64"
      ]
     },
     "execution_count": 85,
     "metadata": {},
     "output_type": "execute_result"
    }
   ],
   "source": [
    "horses[\"dist\"].describe()"
   ]
  },
  {
   "cell_type": "code",
   "execution_count": 87,
   "id": "0b542ae1-9b51-41fc-a814-af27d97c48fb",
   "metadata": {},
   "outputs": [
    {
     "name": "stderr",
     "output_type": "stream",
     "text": [
      "C:\\Users\\admin\\AppData\\Local\\Temp\\ipykernel_1320\\1492920984.py:2: FutureWarning: A value is trying to be set on a copy of a DataFrame or Series through chained assignment using an inplace method.\n",
      "The behavior will change in pandas 3.0. This inplace method will never work because the intermediate object on which we are setting values always behaves as a copy.\n",
      "\n",
      "For example, when doing 'df[col].method(value, inplace=True)', try using 'df.method({col: value}, inplace=True)' or df[col] = df[col].method(value) instead, to perform the operation inplace on the original object.\n",
      "\n",
      "\n",
      "  horses[\"dist\"].fillna(horses[\"dist\"].median(),inplace=True)\n"
     ]
    }
   ],
   "source": [
    "#coverting nan into median\n",
    "horses[\"dist\"].fillna(horses[\"dist\"].median(),inplace=True)"
   ]
  },
  {
   "cell_type": "code",
   "execution_count": 91,
   "id": "7ed8dad0-82d5-4d44-8fbc-67f253793210",
   "metadata": {},
   "outputs": [
    {
     "data": {
      "text/plain": [
       "price\n",
       "12/1      3392\n",
       "14/1      3347\n",
       "16/1      3174\n",
       "10/1      2869\n",
       "33/1      2802\n",
       "          ... \n",
       "123/20       1\n",
       "254/1        1\n",
       "236/1        1\n",
       "240/1        1\n",
       "296/1        1\n",
       "Name: count, Length: 578, dtype: int64"
      ]
     },
     "execution_count": 91,
     "metadata": {},
     "output_type": "execute_result"
    }
   ],
   "source": [
    "horses[\"price\"].value_counts()"
   ]
  },
  {
   "cell_type": "code",
   "execution_count": 93,
   "id": "4b58e6e1-baea-43c6-af7a-d5b1213f4a2f",
   "metadata": {},
   "outputs": [],
   "source": [
    "#dropping remaining features where missing rate is less than 1%\n",
    "horses.dropna(axis=1,inplace=True)"
   ]
  },
  {
   "cell_type": "code",
   "execution_count": 95,
   "id": "9181d925-dc81-490d-842d-6ca114f97bbe",
   "metadata": {},
   "outputs": [
    {
     "data": {
      "text/plain": [
       "rid             0\n",
       "horseName       0\n",
       "age             0\n",
       "decimalPrice    0\n",
       "isFav           0\n",
       "position        0\n",
       "positionL       0\n",
       "dist            0\n",
       "weightSt        0\n",
       "weightLb        0\n",
       "father          0\n",
       "runners         0\n",
       "margin          0\n",
       "weight          0\n",
       "res_win         0\n",
       "res_place       0\n",
       "dtype: int64"
      ]
     },
     "execution_count": 95,
     "metadata": {},
     "output_type": "execute_result"
    }
   ],
   "source": [
    "horses.isnull().sum()"
   ]
  },
  {
   "cell_type": "code",
   "execution_count": 97,
   "id": "ae99b266-db5a-4501-a650-643a77f603e8",
   "metadata": {},
   "outputs": [
    {
     "data": {
      "text/plain": [
       "rid             0.000000\n",
       "course          0.000000\n",
       "time            0.000000\n",
       "date            0.000000\n",
       "title           0.000000\n",
       "ages            0.000000\n",
       "distance        0.000000\n",
       "condition       0.000000\n",
       "prizes          0.000000\n",
       "winningTime     0.000000\n",
       "prize           0.000000\n",
       "metric          0.000000\n",
       "countryCode     0.000000\n",
       "ncond           0.000000\n",
       "class           0.000000\n",
       "currency       37.265107\n",
       "dtype: float64"
      ]
     },
     "execution_count": 97,
     "metadata": {},
     "output_type": "execute_result"
    }
   ],
   "source": [
    "races.isnull().mean()*100"
   ]
  },
  {
   "cell_type": "code",
   "execution_count": 99,
   "id": "375f8e87-8a74-43b2-ba41-c85e9bad4e0c",
   "metadata": {},
   "outputs": [
    {
     "data": {
      "text/plain": [
       "currency\n",
       "GBP    7460\n",
       "EUR    1821\n",
       "Name: count, dtype: int64"
      ]
     },
     "execution_count": 99,
     "metadata": {},
     "output_type": "execute_result"
    }
   ],
   "source": [
    "races[\"currency\"].value_counts()"
   ]
  },
  {
   "cell_type": "code",
   "execution_count": null,
   "id": "0f78799e-ebad-49af-91ca-18856a00d317",
   "metadata": {},
   "outputs": [],
   "source": []
  }
 ],
 "metadata": {
  "kernelspec": {
   "display_name": "Python 3 (ipykernel)",
   "language": "python",
   "name": "python3"
  },
  "language_info": {
   "codemirror_mode": {
    "name": "ipython",
    "version": 3
   },
   "file_extension": ".py",
   "mimetype": "text/x-python",
   "name": "python",
   "nbconvert_exporter": "python",
   "pygments_lexer": "ipython3",
   "version": "3.12.4"
  }
 },
 "nbformat": 4,
 "nbformat_minor": 5
}
