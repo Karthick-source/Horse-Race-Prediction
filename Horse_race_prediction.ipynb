{
 "cells": [
  {
   "cell_type": "code",
   "execution_count": 117,
   "id": "e04cdbff-300b-4267-8ddb-13a95e71f8ae",
   "metadata": {},
   "outputs": [],
   "source": [
    "import pandas as pd\n",
    "import os\n",
    "import numpy as np"
   ]
  },
  {
   "cell_type": "code",
   "execution_count": 2,
   "id": "141156fc-1714-4dd9-8558-047437bb86c7",
   "metadata": {},
   "outputs": [],
   "source": [
    "#paths\n",
    "\n",
    "data= r\"C:\\Users\\admin\\python\\Horse Race Prediction\""
   ]
  },
  {
   "cell_type": "code",
   "execution_count": 3,
   "id": "28d3f24f-bed3-4293-b798-5e0b71256ffa",
   "metadata": {},
   "outputs": [],
   "source": [
    "#loading forward data\n",
    "\n",
    "forward = pd.read_csv(\"forward.csv\")"
   ]
  },
  {
   "cell_type": "code",
   "execution_count": 4,
   "id": "16df5869-3b9d-4972-b4bb-1a58d3a50abf",
   "metadata": {},
   "outputs": [
    {
     "name": "stderr",
     "output_type": "stream",
     "text": [
      "C:\\Users\\admin\\AppData\\Local\\Temp\\ipykernel_11388\\2932159393.py:10: DtypeWarning: Columns (10) have mixed types. Specify dtype option on import or set low_memory=False.\n",
      "  horses =pd.read_csv(horse_file)\n",
      "C:\\Users\\admin\\AppData\\Local\\Temp\\ipykernel_11388\\2932159393.py:10: DtypeWarning: Columns (27) have mixed types. Specify dtype option on import or set low_memory=False.\n",
      "  horses =pd.read_csv(horse_file)\n"
     ]
    }
   ],
   "source": [
    "#load and combine horses and race dataset\n",
    "\n",
    "horse_race_data=[]\n",
    "\n",
    "for year in range(1990,2021):\n",
    "    horse_file=os.path.join(data,f\"horses_{year}.csv\")\n",
    "    race_file=os.path.join(data,f\"races_{year}.csv\")\n",
    "\n",
    "    if os.path.exists(horse_file) and os.path.exists(race_file):\n",
    "        horses =pd.read_csv(horse_file)\n",
    "        races =pd.read_csv(race_file)\n",
    "\n",
    "#          #merge horses and races datasets on 'rid'\n",
    "#         combined_data = pd.merge(horses, races, on=\"rid\", how=\"inner\")\n",
    "#         horse_race_data.append(combined_data)\n",
    "\n",
    "# #combine into a single DataFrame\n",
    "# df = pd.concat(horse_race_data, ignore_index=True)\n",
    "\n",
    " #save dataset into csv\n",
    "# horses.to_csv(\"horses.csv\",index=False)\n",
    "# races.to_csv(\"races.csv\",index=False)\n",
    "# print(\"saved successfully\")"
   ]
  },
  {
   "cell_type": "code",
   "execution_count": 5,
   "id": "72103ffb-6380-410a-9efa-b342239c519a",
   "metadata": {},
   "outputs": [],
   "source": [
    "# #load combined data\n",
    "# file_name= \"horse_race.csv\"\n",
    "# df=pd.read_csv(file_name)"
   ]
  },
  {
   "cell_type": "code",
   "execution_count": 6,
   "id": "751bf1ca-adbf-42b9-9af8-8df71c5d55c2",
   "metadata": {},
   "outputs": [],
   "source": [
    "# data cleaning"
   ]
  },
  {
   "cell_type": "code",
   "execution_count": 7,
   "id": "46ad7d0d-f2a0-4e29-b856-4f61598ba090",
   "metadata": {},
   "outputs": [
    {
     "name": "stdout",
     "output_type": "stream",
     "text": [
      "Missing values in Races DataFrame:\n",
      "rid             0.000000\n",
      "course          0.000000\n",
      "time            0.000000\n",
      "date            0.000000\n",
      "title           0.000000\n",
      "rclass         51.358659\n",
      "band           63.951602\n",
      "ages            0.000000\n",
      "distance        0.000000\n",
      "condition       0.000000\n",
      "hurdles        79.268622\n",
      "prizes          0.000000\n",
      "winningTime     0.000000\n",
      "prize           0.000000\n",
      "metric          0.000000\n",
      "countryCode     0.000000\n",
      "ncond           0.000000\n",
      "class           0.000000\n",
      "currency       37.265107\n",
      "dtype: float64\n",
      "\n",
      "Missing values in Horses DataFrame:\n",
      "rid              0.000000\n",
      "horseName        0.000000\n",
      "age              0.000000\n",
      "saddle           0.004013\n",
      "decimalPrice     0.000000\n",
      "isFav            0.000000\n",
      "trainerName      0.014046\n",
      "jockeyName       0.002007\n",
      "position         0.000000\n",
      "positionL       14.197428\n",
      "dist            24.046070\n",
      "weightSt         0.000000\n",
      "weightLb         0.000000\n",
      "overWeight      96.722693\n",
      "outHandicap     99.094393\n",
      "headGear        62.690201\n",
      "RPR             48.454649\n",
      "TR              68.066991\n",
      "OR              46.796600\n",
      "father           0.000000\n",
      "mother           0.000669\n",
      "gfather          0.024078\n",
      "runners          0.000000\n",
      "margin           0.000000\n",
      "weight           0.000000\n",
      "res_win          0.000000\n",
      "res_place        0.000000\n",
      "price           36.453017\n",
      "dtype: float64\n",
      "\n",
      "Missing values in Forward DataFrame:\n",
      "course           0.032633\n",
      "countryCode      0.000000\n",
      "marketTime       0.000000\n",
      "title            0.000000\n",
      "runners          0.000000\n",
      "condition        0.014833\n",
      "prize            0.000000\n",
      "rclass          31.790673\n",
      "horseName        0.000000\n",
      "trainerName      0.000000\n",
      "jockeyName       0.272932\n",
      "RPRc            16.604367\n",
      "TRc             29.927614\n",
      "OR              28.094221\n",
      "weightSt         0.000000\n",
      "weightLb         0.000000\n",
      "age              0.000000\n",
      "decimalPrice     0.000000\n",
      "dtype: float64\n"
     ]
    }
   ],
   "source": [
    "\n",
    "# Checking for missing values in races DataFrame\n",
    "\n",
    "print(\"Missing values in Races DataFrame:\")\n",
    "print(races.isnull().mean()*100)\n",
    "\n",
    "# Checking for missing values in horses DataFrame\n",
    "\n",
    "print(\"\\nMissing values in Horses DataFrame:\")\n",
    "print(horses.isnull().mean()*100)\n",
    "\n",
    "# Checking for missing values in forward DataFrame\n",
    "\n",
    "print(\"\\nMissing values in Forward DataFrame:\")\n",
    "print(forward.isnull().mean()*100)\n",
    "     "
   ]
  },
  {
   "cell_type": "code",
   "execution_count": 8,
   "id": "b63e1bd0-70b8-4ae8-9680-e3b63f7bc653",
   "metadata": {},
   "outputs": [],
   "source": [
    "#dropping columns which are 50% above null values\n",
    "\n",
    "threshold =len(horses)*0.50\n",
    "horses=horses.dropna(thresh=threshold,axis=1)\n",
    "\n",
    "threshold =len(races)*0.50\n",
    "races=races.dropna(thresh=threshold,axis=1)\n",
    "\n",
    "threshold =len(forward)*0.50\n",
    "forward=forward.dropna(thresh=threshold,axis=1)"
   ]
  },
  {
   "cell_type": "code",
   "execution_count": 9,
   "id": "11552001-7e0f-47b1-8e18-fe6a0a6fcf8e",
   "metadata": {},
   "outputs": [
    {
     "data": {
      "text/plain": [
       "rid              0.000000\n",
       "horseName        0.000000\n",
       "age              0.000000\n",
       "saddle           0.004013\n",
       "decimalPrice     0.000000\n",
       "isFav            0.000000\n",
       "trainerName      0.014046\n",
       "jockeyName       0.002007\n",
       "position         0.000000\n",
       "positionL       14.197428\n",
       "dist            24.046070\n",
       "weightSt         0.000000\n",
       "weightLb         0.000000\n",
       "RPR             48.454649\n",
       "OR              46.796600\n",
       "father           0.000000\n",
       "mother           0.000669\n",
       "gfather          0.024078\n",
       "runners          0.000000\n",
       "margin           0.000000\n",
       "weight           0.000000\n",
       "res_win          0.000000\n",
       "res_place        0.000000\n",
       "price           36.453017\n",
       "dtype: float64"
      ]
     },
     "execution_count": 9,
     "metadata": {},
     "output_type": "execute_result"
    }
   ],
   "source": [
    "horses.isnull().mean()*100"
   ]
  },
  {
   "cell_type": "code",
   "execution_count": 10,
   "id": "65ccd0df-e2ad-4351-8e0d-10344d448fc7",
   "metadata": {},
   "outputs": [
    {
     "data": {
      "text/plain": [
       "positionL\n",
       ".5       12031\n",
       "nk       11160\n",
       ".75       9946\n",
       "1.25      7977\n",
       "1         7261\n",
       "         ...  \n",
       "91           2\n",
       "2.0          1\n",
       "7.0          1\n",
       "107          1\n",
       "24.75        1\n",
       "Name: count, Length: 171, dtype: int64"
      ]
     },
     "execution_count": 10,
     "metadata": {},
     "output_type": "execute_result"
    }
   ],
   "source": [
    "horses[\"positionL\"].value_counts()"
   ]
  },
  {
   "cell_type": "code",
   "execution_count": 11,
   "id": "2458b06c-45be-4d7f-bf82-39c3e90f9a14",
   "metadata": {},
   "outputs": [],
   "source": [
    "#mapping for non-numeric terms in positionL\n",
    "\n",
    "mapping={\n",
    "  \"shd\":0.1,\n",
    "   \"hd\":0.2,\n",
    "   \"nk\":0.3\n",
    "}\n",
    "\n",
    "#replacing\n",
    "horses[\"positionL\"] =horses[\"positionL\"].replace(mapping)\n",
    "#convert the column to numeric\n",
    "horses[\"positionL\"]=pd.to_numeric(horses[\"positionL\"],errors=\"coerce\")"
   ]
  },
  {
   "cell_type": "code",
   "execution_count": 12,
   "id": "452972ac-afc5-40e8-9bc9-1bc1e71de9fc",
   "metadata": {},
   "outputs": [
    {
     "data": {
      "text/plain": [
       "25640"
      ]
     },
     "execution_count": 12,
     "metadata": {},
     "output_type": "execute_result"
    }
   ],
   "source": [
    "horses[\"positionL\"].isnull().sum()"
   ]
  },
  {
   "cell_type": "code",
   "execution_count": 13,
   "id": "eb388bec-5946-4d62-85fe-cbb14fc98ee7",
   "metadata": {},
   "outputs": [
    {
     "data": {
      "text/plain": [
       "count    123873.000000\n",
       "mean          3.813783\n",
       "std           7.431375\n",
       "min           0.100000\n",
       "25%           0.500000\n",
       "50%           1.500000\n",
       "75%           3.750000\n",
       "max         107.000000\n",
       "Name: positionL, dtype: float64"
      ]
     },
     "execution_count": 13,
     "metadata": {},
     "output_type": "execute_result"
    }
   ],
   "source": [
    "horses['positionL'].describe()"
   ]
  },
  {
   "cell_type": "code",
   "execution_count": 14,
   "id": "cd91ccd0-ace8-43d2-8ab9-c5f4246d0f6a",
   "metadata": {},
   "outputs": [
    {
     "name": "stderr",
     "output_type": "stream",
     "text": [
      "C:\\Users\\admin\\AppData\\Local\\Temp\\ipykernel_11388\\3644971839.py:1: FutureWarning: A value is trying to be set on a copy of a DataFrame or Series through chained assignment using an inplace method.\n",
      "The behavior will change in pandas 3.0. This inplace method will never work because the intermediate object on which we are setting values always behaves as a copy.\n",
      "\n",
      "For example, when doing 'df[col].method(value, inplace=True)', try using 'df.method({col: value}, inplace=True)' or df[col] = df[col].method(value) instead, to perform the operation inplace on the original object.\n",
      "\n",
      "\n",
      "  horses['positionL'].fillna(horses['positionL'].median(),inplace=True)\n"
     ]
    }
   ],
   "source": [
    "horses['positionL'].fillna(horses['positionL'].median(),inplace=True)"
   ]
  },
  {
   "cell_type": "code",
   "execution_count": 15,
   "id": "da3eed38-242a-410c-aea3-43dfed6895a0",
   "metadata": {},
   "outputs": [
    {
     "data": {
      "text/plain": [
       "count     113561\n",
       "unique       819\n",
       "top         4.25\n",
       "freq        2083\n",
       "Name: dist, dtype: object"
      ]
     },
     "execution_count": 15,
     "metadata": {},
     "output_type": "execute_result"
    }
   ],
   "source": [
    "horses[\"dist\"].describe()"
   ]
  },
  {
   "cell_type": "code",
   "execution_count": 16,
   "id": "1b08f149-7e0e-4bb9-a419-be6cc5e7e482",
   "metadata": {},
   "outputs": [],
   "source": [
    "#coverting string into numeric\n",
    "horses[\"dist\"] =pd.to_numeric(horses[\"dist\"],errors=\"coerce\")\n"
   ]
  },
  {
   "cell_type": "code",
   "execution_count": 17,
   "id": "ab9a5b19-c643-4a61-ae4d-c0967bf6f8e8",
   "metadata": {},
   "outputs": [
    {
     "data": {
      "text/plain": [
       "count    113397.000000\n",
       "mean         14.912465\n",
       "std          18.235040\n",
       "min           0.250000\n",
       "25%           4.500000\n",
       "50%           8.750000\n",
       "75%          17.500000\n",
       "max         241.250000\n",
       "Name: dist, dtype: float64"
      ]
     },
     "execution_count": 17,
     "metadata": {},
     "output_type": "execute_result"
    }
   ],
   "source": [
    "horses[\"dist\"].describe()"
   ]
  },
  {
   "cell_type": "code",
   "execution_count": 18,
   "id": "0b542ae1-9b51-41fc-a814-af27d97c48fb",
   "metadata": {},
   "outputs": [
    {
     "name": "stderr",
     "output_type": "stream",
     "text": [
      "C:\\Users\\admin\\AppData\\Local\\Temp\\ipykernel_11388\\1492920984.py:2: FutureWarning: A value is trying to be set on a copy of a DataFrame or Series through chained assignment using an inplace method.\n",
      "The behavior will change in pandas 3.0. This inplace method will never work because the intermediate object on which we are setting values always behaves as a copy.\n",
      "\n",
      "For example, when doing 'df[col].method(value, inplace=True)', try using 'df.method({col: value}, inplace=True)' or df[col] = df[col].method(value) instead, to perform the operation inplace on the original object.\n",
      "\n",
      "\n",
      "  horses[\"dist\"].fillna(horses[\"dist\"].median(),inplace=True)\n"
     ]
    }
   ],
   "source": [
    "#coverting nan into median\n",
    "horses[\"dist\"].fillna(horses[\"dist\"].median(),inplace=True)"
   ]
  },
  {
   "cell_type": "code",
   "execution_count": 19,
   "id": "d82467bd-7ea8-4535-be1d-e083eac34284",
   "metadata": {},
   "outputs": [
    {
     "data": {
      "text/plain": [
       "count    77067.000000\n",
       "mean        74.677073\n",
       "std         29.092444\n",
       "min          1.000000\n",
       "25%         55.000000\n",
       "50%         73.000000\n",
       "75%         95.000000\n",
       "max        177.000000\n",
       "Name: RPR, dtype: float64"
      ]
     },
     "execution_count": 19,
     "metadata": {},
     "output_type": "execute_result"
    }
   ],
   "source": [
    "horses[\"RPR\"].describe()"
   ]
  },
  {
   "cell_type": "code",
   "execution_count": 20,
   "id": "fbe04a6b-65de-4237-aa77-3cea9cc665db",
   "metadata": {},
   "outputs": [
    {
     "name": "stderr",
     "output_type": "stream",
     "text": [
      "C:\\Users\\admin\\AppData\\Local\\Temp\\ipykernel_11388\\1589162635.py:1: FutureWarning: A value is trying to be set on a copy of a DataFrame or Series through chained assignment using an inplace method.\n",
      "The behavior will change in pandas 3.0. This inplace method will never work because the intermediate object on which we are setting values always behaves as a copy.\n",
      "\n",
      "For example, when doing 'df[col].method(value, inplace=True)', try using 'df.method({col: value}, inplace=True)' or df[col] = df[col].method(value) instead, to perform the operation inplace on the original object.\n",
      "\n",
      "\n",
      "  horses[\"RPR\"].fillna(horses[\"RPR\"].median(),inplace=True)\n"
     ]
    }
   ],
   "source": [
    "horses[\"RPR\"].fillna(horses[\"RPR\"].median(),inplace=True)"
   ]
  },
  {
   "cell_type": "code",
   "execution_count": 21,
   "id": "327972c2-921d-4121-932c-10d8db8acdd9",
   "metadata": {},
   "outputs": [
    {
     "data": {
      "text/plain": [
       "count    79546.000000\n",
       "mean        80.446685\n",
       "std         25.672796\n",
       "min          1.000000\n",
       "25%         61.000000\n",
       "50%         77.000000\n",
       "75%         97.000000\n",
       "max        177.000000\n",
       "Name: OR, dtype: float64"
      ]
     },
     "execution_count": 21,
     "metadata": {},
     "output_type": "execute_result"
    }
   ],
   "source": [
    "horses[\"OR\"].describe()"
   ]
  },
  {
   "cell_type": "code",
   "execution_count": 22,
   "id": "519a4991-8862-4900-954b-78a9a049d022",
   "metadata": {},
   "outputs": [
    {
     "name": "stderr",
     "output_type": "stream",
     "text": [
      "C:\\Users\\admin\\AppData\\Local\\Temp\\ipykernel_11388\\514480544.py:1: FutureWarning: A value is trying to be set on a copy of a DataFrame or Series through chained assignment using an inplace method.\n",
      "The behavior will change in pandas 3.0. This inplace method will never work because the intermediate object on which we are setting values always behaves as a copy.\n",
      "\n",
      "For example, when doing 'df[col].method(value, inplace=True)', try using 'df.method({col: value}, inplace=True)' or df[col] = df[col].method(value) instead, to perform the operation inplace on the original object.\n",
      "\n",
      "\n",
      "  horses[\"OR\"].fillna(horses[\"OR\"].median(),inplace=True)\n"
     ]
    }
   ],
   "source": [
    "horses[\"OR\"].fillna(horses[\"OR\"].median(),inplace=True)"
   ]
  },
  {
   "cell_type": "code",
   "execution_count": 23,
   "id": "7ed8dad0-82d5-4d44-8fbc-67f253793210",
   "metadata": {},
   "outputs": [
    {
     "data": {
      "text/plain": [
       "price\n",
       "12/1      3392\n",
       "14/1      3347\n",
       "16/1      3174\n",
       "10/1      2869\n",
       "33/1      2802\n",
       "          ... \n",
       "123/20       1\n",
       "254/1        1\n",
       "236/1        1\n",
       "240/1        1\n",
       "296/1        1\n",
       "Name: count, Length: 578, dtype: int64"
      ]
     },
     "execution_count": 23,
     "metadata": {},
     "output_type": "execute_result"
    }
   ],
   "source": [
    "horses[\"price\"].value_counts()"
   ]
  },
  {
   "cell_type": "code",
   "execution_count": null,
   "id": "21734b48-c73a-46e4-b858-63d7c1c14a50",
   "metadata": {},
   "outputs": [],
   "source": []
  },
  {
   "cell_type": "code",
   "execution_count": 24,
   "id": "4b58e6e1-baea-43c6-af7a-d5b1213f4a2f",
   "metadata": {},
   "outputs": [],
   "source": [
    "#dropping remaining features where missing rate is less than 1%\n",
    "horses.dropna(axis=1,inplace=True)"
   ]
  },
  {
   "cell_type": "code",
   "execution_count": 25,
   "id": "9181d925-dc81-490d-842d-6ca114f97bbe",
   "metadata": {},
   "outputs": [
    {
     "data": {
      "text/plain": [
       "rid             0.0\n",
       "horseName       0.0\n",
       "age             0.0\n",
       "decimalPrice    0.0\n",
       "isFav           0.0\n",
       "position        0.0\n",
       "positionL       0.0\n",
       "dist            0.0\n",
       "weightSt        0.0\n",
       "weightLb        0.0\n",
       "RPR             0.0\n",
       "OR              0.0\n",
       "father          0.0\n",
       "runners         0.0\n",
       "margin          0.0\n",
       "weight          0.0\n",
       "res_win         0.0\n",
       "res_place       0.0\n",
       "dtype: float64"
      ]
     },
     "execution_count": 25,
     "metadata": {},
     "output_type": "execute_result"
    }
   ],
   "source": [
    "horses.isnull().mean()*100"
   ]
  },
  {
   "cell_type": "code",
   "execution_count": 26,
   "id": "32f92904-f798-4ee8-8fdd-76ab075fe27b",
   "metadata": {},
   "outputs": [
    {
     "data": {
      "text/plain": [
       "count    149513.000000\n",
       "mean          0.117114\n",
       "std           0.117515\n",
       "min           0.001427\n",
       "25%           0.034483\n",
       "50%           0.076923\n",
       "75%           0.161290\n",
       "max           0.965517\n",
       "Name: decimalPrice, dtype: float64"
      ]
     },
     "execution_count": 26,
     "metadata": {},
     "output_type": "execute_result"
    }
   ],
   "source": [
    "horses[\"decimalPrice\"].describe()"
   ]
  },
  {
   "cell_type": "code",
   "execution_count": 27,
   "id": "927ab91f-7c58-4230-857c-291dfb0b2039",
   "metadata": {},
   "outputs": [],
   "source": [
    "horses[\"decimalPrice\"]=horses[\"decimalPrice\"].round(4)"
   ]
  },
  {
   "cell_type": "code",
   "execution_count": 28,
   "id": "558d657b-ed06-4300-91c4-e13cc64e75ac",
   "metadata": {},
   "outputs": [
    {
     "data": {
      "text/plain": [
       "isFav\n",
       "0    133950\n",
       "1     15563\n",
       "Name: count, dtype: int64"
      ]
     },
     "execution_count": 28,
     "metadata": {},
     "output_type": "execute_result"
    }
   ],
   "source": [
    "horses[\"isFav\"].value_counts()"
   ]
  },
  {
   "cell_type": "code",
   "execution_count": 29,
   "id": "2d4c0be0-c798-4808-a134-709e4da3e1f2",
   "metadata": {},
   "outputs": [
    {
     "name": "stdout",
     "output_type": "stream",
     "text": [
      "Favorites' Win Rate: 32.26%\n",
      "Non-Favorites' Win Rate: 7.25%\n"
     ]
    }
   ],
   "source": [
    "win_rate_favorites = (horses[horses[\"isFav\"] == 1][\"position\"] == 1).mean()\n",
    "win_rate_non_favorites = (horses[horses[\"isFav\"] == 0][\"position\"] == 1).mean()\n",
    "\n",
    "print(f\"Favorites' Win Rate: {win_rate_favorites:.2%}\")\n",
    "print(f\"Non-Favorites' Win Rate: {win_rate_non_favorites:.2%}\")\n"
   ]
  },
  {
   "cell_type": "code",
   "execution_count": 30,
   "id": "51d0793c-0aed-441a-8e7d-534fbd1d464c",
   "metadata": {},
   "outputs": [
    {
     "data": {
      "text/plain": [
       "0.1"
      ]
     },
     "execution_count": 30,
     "metadata": {},
     "output_type": "execute_result"
    }
   ],
   "source": [
    "horses[\"positionL\"].min() "
   ]
  },
  {
   "cell_type": "code",
   "execution_count": 31,
   "id": "92f49fc2-cadd-4f27-ad16-dd8a7efe1d10",
   "metadata": {},
   "outputs": [
    {
     "data": {
      "text/plain": [
       "107.0"
      ]
     },
     "execution_count": 31,
     "metadata": {},
     "output_type": "execute_result"
    }
   ],
   "source": [
    "horses[\"positionL\"].max() "
   ]
  },
  {
   "cell_type": "code",
   "execution_count": 32,
   "id": "f653457b-0a33-410b-8176-ef0dd894503b",
   "metadata": {},
   "outputs": [],
   "source": [
    "mapping = {\n",
    "    \"nse\": 0.05,   # Nose\n",
    "    \"nk\": 0.25,    # Neck\n",
    "    \"hd\": 0.10,    # Head\n",
    "    \"shd\": 0.08,   # Short head\n",
    "    \"dist\": 20,    # Distance (assume a large margin)\n",
    "    \"snk\": 0.20,   # Short neck\n",
    "    \"dnt\": None    # Did not try (set to NaN)\n",
    "}\n",
    "horses[\"positionL\"] = horses[\"positionL\"].replace(mapping)\n"
   ]
  },
  {
   "cell_type": "code",
   "execution_count": 33,
   "id": "3deadd79-a115-4b4e-a6b5-a21831828ddf",
   "metadata": {},
   "outputs": [],
   "source": [
    "#ensuring all values are numeric\n",
    "horses[\"positionL\"] = pd.to_numeric(horses[\"positionL\"], errors=\"coerce\")"
   ]
  },
  {
   "cell_type": "code",
   "execution_count": 34,
   "id": "edb08a0f-5ba8-4c62-b012-affda00f7cf2",
   "metadata": {},
   "outputs": [
    {
     "data": {
      "text/plain": [
       "count    149513.000000\n",
       "mean         13.423875\n",
       "std          16.098191\n",
       "min           0.250000\n",
       "25%           5.750000\n",
       "50%           8.750000\n",
       "75%          13.750000\n",
       "max         241.250000\n",
       "Name: dist, dtype: float64"
      ]
     },
     "execution_count": 34,
     "metadata": {},
     "output_type": "execute_result"
    }
   ],
   "source": [
    "horses[\"dist\"].describe()  "
   ]
  },
  {
   "cell_type": "code",
   "execution_count": 35,
   "id": "f6b00cd0-dd45-4968-a419-6072d33259d9",
   "metadata": {},
   "outputs": [
    {
     "data": {
      "text/plain": [
       "count    149513.000000\n",
       "mean          9.105569\n",
       "std           1.048855\n",
       "min           7.000000\n",
       "25%           8.000000\n",
       "50%           9.000000\n",
       "75%          10.000000\n",
       "max          16.000000\n",
       "Name: weightSt, dtype: float64"
      ]
     },
     "execution_count": 35,
     "metadata": {},
     "output_type": "execute_result"
    }
   ],
   "source": [
    "horses[\"weightSt\"].describe()  "
   ]
  },
  {
   "cell_type": "code",
   "execution_count": 36,
   "id": "e50b47b9-eee4-4b5a-aa39-3ea47978c0ec",
   "metadata": {},
   "outputs": [
    {
     "data": {
      "text/plain": [
       "count    149513.000000\n",
       "mean         11.265663\n",
       "std           3.399171\n",
       "min           2.000000\n",
       "25%           9.000000\n",
       "50%          11.000000\n",
       "75%          14.000000\n",
       "max          34.000000\n",
       "Name: runners, dtype: float64"
      ]
     },
     "execution_count": 36,
     "metadata": {},
     "output_type": "execute_result"
    }
   ],
   "source": [
    "horses[\"runners\"].describe()  "
   ]
  },
  {
   "cell_type": "code",
   "execution_count": 37,
   "id": "88239c0c-fae2-46cb-b7a1-6def0ec8c740",
   "metadata": {},
   "outputs": [],
   "source": [
    "# races dataset"
   ]
  },
  {
   "cell_type": "code",
   "execution_count": 38,
   "id": "ae99b266-db5a-4501-a650-643a77f603e8",
   "metadata": {},
   "outputs": [
    {
     "data": {
      "text/plain": [
       "rid             0.000000\n",
       "course          0.000000\n",
       "time            0.000000\n",
       "date            0.000000\n",
       "title           0.000000\n",
       "ages            0.000000\n",
       "distance        0.000000\n",
       "condition       0.000000\n",
       "prizes          0.000000\n",
       "winningTime     0.000000\n",
       "prize           0.000000\n",
       "metric          0.000000\n",
       "countryCode     0.000000\n",
       "ncond           0.000000\n",
       "class           0.000000\n",
       "currency       37.265107\n",
       "dtype: float64"
      ]
     },
     "execution_count": 38,
     "metadata": {},
     "output_type": "execute_result"
    }
   ],
   "source": [
    "races.isnull().mean()*100"
   ]
  },
  {
   "cell_type": "code",
   "execution_count": 39,
   "id": "375f8e87-8a74-43b2-ba41-c85e9bad4e0c",
   "metadata": {},
   "outputs": [
    {
     "data": {
      "text/plain": [
       "currency\n",
       "GBP    7460\n",
       "EUR    1821\n",
       "Name: count, dtype: int64"
      ]
     },
     "execution_count": 39,
     "metadata": {},
     "output_type": "execute_result"
    }
   ],
   "source": [
    "races[\"currency\"].value_counts()"
   ]
  },
  {
   "cell_type": "code",
   "execution_count": 40,
   "id": "0f78799e-ebad-49af-91ca-18856a00d317",
   "metadata": {},
   "outputs": [],
   "source": [
    "races.dropna(axis=1,inplace=True)"
   ]
  },
  {
   "cell_type": "code",
   "execution_count": 41,
   "id": "b5241f2c-d7a0-49d4-818a-25094c31fa93",
   "metadata": {},
   "outputs": [
    {
     "data": {
      "text/plain": [
       "rid            0.0\n",
       "course         0.0\n",
       "time           0.0\n",
       "date           0.0\n",
       "title          0.0\n",
       "ages           0.0\n",
       "distance       0.0\n",
       "condition      0.0\n",
       "prizes         0.0\n",
       "winningTime    0.0\n",
       "prize          0.0\n",
       "metric         0.0\n",
       "countryCode    0.0\n",
       "ncond          0.0\n",
       "class          0.0\n",
       "dtype: float64"
      ]
     },
     "execution_count": 41,
     "metadata": {},
     "output_type": "execute_result"
    }
   ],
   "source": [
    "races.isnull().mean()*100"
   ]
  },
  {
   "cell_type": "code",
   "execution_count": 42,
   "id": "fb269db7-d738-4cc3-9870-6b3d72b7df17",
   "metadata": {},
   "outputs": [],
   "source": [
    "# changing time dtype into time\n",
    "races[\"time\"] = pd.to_datetime(races[\"time\"],format=\"%H:%M\").dt.time"
   ]
  },
  {
   "cell_type": "code",
   "execution_count": 43,
   "id": "52129292-8616-4630-bbc8-caf504f30b89",
   "metadata": {},
   "outputs": [],
   "source": [
    "# changing date dtype into date\n",
    "races[\"date\"] = pd.to_datetime(races[\"date\"], format=\"%d/%m/%y\", dayfirst=True, errors=\"coerce\").dt.date"
   ]
  },
  {
   "cell_type": "code",
   "execution_count": 44,
   "id": "068cdd26-c9bc-4088-82d0-3a6ef2a2ab8c",
   "metadata": {},
   "outputs": [
    {
     "data": {
      "text/plain": [
       "ages\n",
       "3yo+     5050\n",
       "4yo+     4302\n",
       "3yo      1977\n",
       "2yo      1672\n",
       "5yo+      891\n",
       "4yo       333\n",
       "4-6yo     194\n",
       "4-7yo      88\n",
       "2yo+       77\n",
       "3-5yo      44\n",
       "4-5yo      34\n",
       "5-7yo      30\n",
       "5yo        27\n",
       "3-4yo      26\n",
       "10yo+      19\n",
       "6yo+       16\n",
       "5-6yo       4\n",
       "3-6yo       3\n",
       "2-3yo       3\n",
       "8yo+        1\n",
       "9yo+        1\n",
       "5-8yo       1\n",
       "4-8yo       1\n",
       "Name: count, dtype: int64"
      ]
     },
     "execution_count": 44,
     "metadata": {},
     "output_type": "execute_result"
    }
   ],
   "source": [
    "races[\"ages\"].value_counts()"
   ]
  },
  {
   "cell_type": "code",
   "execution_count": 45,
   "id": "0812b58b-96fe-4dc7-86a4-1be45235a2a4",
   "metadata": {},
   "outputs": [
    {
     "data": {
      "text/plain": [
       "'10yo+'"
      ]
     },
     "execution_count": 45,
     "metadata": {},
     "output_type": "execute_result"
    }
   ],
   "source": [
    "races[\"ages\"].min()"
   ]
  },
  {
   "cell_type": "code",
   "execution_count": 46,
   "id": "15a16434-0ecc-4a34-aa62-310343c20afb",
   "metadata": {},
   "outputs": [
    {
     "data": {
      "text/plain": [
       "'9yo+'"
      ]
     },
     "execution_count": 46,
     "metadata": {},
     "output_type": "execute_result"
    }
   ],
   "source": [
    "races[\"ages\"].max()"
   ]
  },
  {
   "cell_type": "code",
   "execution_count": 47,
   "id": "c8fa158d-f984-4597-8164-334a1a57cafd",
   "metadata": {},
   "outputs": [],
   "source": [
    "# defining function to extract minimum age\n",
    "\n",
    "def min_age(age):\n",
    "    if \"+\" in str(age):\n",
    "        return int(age.split(\"yo\")[0])\n",
    "    elif \"-\" in str(age):\n",
    "        return int(age.split(\"-\")[0].replace(\"yo\",\"\"))\n",
    "    else:\n",
    "        return int(age.split(\"yo\")[0])\n",
    "\n",
    "#using apply function to exact minimum age\n",
    "races[\"age\"]=races[\"ages\"].apply(min_age)   "
   ]
  },
  {
   "cell_type": "code",
   "execution_count": 48,
   "id": "c35cfa9c-f11a-496c-8b63-de2789f2dda3",
   "metadata": {},
   "outputs": [
    {
     "data": {
      "text/plain": [
       "age\n",
       "3     7100\n",
       "4     4952\n",
       "2     1752\n",
       "5      953\n",
       "10      19\n",
       "6       16\n",
       "8        1\n",
       "9        1\n",
       "Name: count, dtype: int64"
      ]
     },
     "execution_count": 48,
     "metadata": {},
     "output_type": "execute_result"
    }
   ],
   "source": [
    "races[\"age\"].value_counts()"
   ]
  },
  {
   "cell_type": "code",
   "execution_count": 49,
   "id": "919fa620-5cc4-4289-95f0-93965b36847f",
   "metadata": {
    "scrolled": true
   },
   "outputs": [
    {
     "data": {
      "text/plain": [
       "distance\n",
       "1m       2129\n",
       "6f       1950\n",
       "7f       1646\n",
       "5f        970\n",
       "1m2f      885\n",
       "2m        881\n",
       "1m4f      647\n",
       "2m4f      414\n",
       "1m½f      394\n",
       "2m½f      359\n",
       "1m1f      323\n",
       "3m        260\n",
       "2m1f      259\n",
       "5½f       257\n",
       "2m3½f     238\n",
       "1m1½f     231\n",
       "6½f       209\n",
       "2m2f      181\n",
       "2m4½f     180\n",
       "1m6f      180\n",
       "2m5f      172\n",
       "7½f       161\n",
       "2m3f      156\n",
       "1m2½f     148\n",
       "1m3f      136\n",
       "2m1½f     126\n",
       "1m7½f     126\n",
       "2m5½f     119\n",
       "1m4½f     110\n",
       "2m7½f     106\n",
       "2m6f       91\n",
       "3m1f       77\n",
       "3m½f       76\n",
       "2m6½f      69\n",
       "1m3½f      64\n",
       "2m7f       64\n",
       "2m2½f      62\n",
       "3m2f       56\n",
       "1m7f       49\n",
       "1m5f       44\n",
       "3m1½f      41\n",
       "1m5½f      37\n",
       "3m2½f      31\n",
       "1m6½f      17\n",
       "4½f        15\n",
       "4f         11\n",
       "3m4½f       8\n",
       "3m5f        8\n",
       "3m3f        6\n",
       "3m6f        5\n",
       "3m3½f       3\n",
       "3m6½f       2\n",
       "3m5½f       1\n",
       "4m2f        1\n",
       "4m1f        1\n",
       "3m4f        1\n",
       "4m          1\n",
       "Name: count, dtype: int64"
      ]
     },
     "execution_count": 49,
     "metadata": {},
     "output_type": "execute_result"
    }
   ],
   "source": [
    "races[\"distance\"].value_counts()"
   ]
  },
  {
   "cell_type": "code",
   "execution_count": 50,
   "id": "b7af6645-0525-4c96-902e-cd66b4a1f8c2",
   "metadata": {},
   "outputs": [],
   "source": [
    "# coverting distance into furlong\n",
    "\n",
    "def furlong(dist):\n",
    "    dist= str(dist).replace(\"½\", \".5\").replace(\"1/2\", \".5\")                        \n",
    "    if \"m\" in dist and \"f\" in dist:                                           \n",
    "        miles,furlong=dist.split(\"m\")\n",
    "        return int(miles)* 8 + float(furlong.replace(\"f\",\"\"))       # 1 mile = 8 furlongs\n",
    "    elif \"m\" in dist:                                                # 1 furlong = 201.168 meters\n",
    "        return int(dist.replace(\"m\",\"\"))* 8                          # 5 furlongs = 1 kilometer(approx)\n",
    "    elif \"f\" in dist:\n",
    "        return float(dist.replace(\"f\", \"\"))\n",
    "    else:\n",
    "        return None\n",
    "        \n",
    "races[\"dist_furlong\"] = races[\"distance\"].apply(furlong)    "
   ]
  },
  {
   "cell_type": "code",
   "execution_count": 109,
   "id": "a44c1b65-e9e7-4d73-a96e-fc18b7a0875e",
   "metadata": {},
   "outputs": [
    {
     "data": {
      "text/plain": [
       "winningTime\n",
       "0.00      12\n",
       "69.47      9\n",
       "72.13      9\n",
       "254.70     9\n",
       "69.73      9\n",
       "          ..\n",
       "74.41      1\n",
       "74.97      1\n",
       "98.11      1\n",
       "140.17     1\n",
       "95.59      1\n",
       "Name: count, Length: 8992, dtype: int64"
      ]
     },
     "execution_count": 109,
     "metadata": {},
     "output_type": "execute_result"
    }
   ],
   "source": [
    "races[\"winningTime\"].value_counts()"
   ]
  },
  {
   "cell_type": "code",
   "execution_count": 119,
   "id": "d4e05c7f-abb2-433b-95eb-11098c08779c",
   "metadata": {},
   "outputs": [],
   "source": [
    "# coverting invalid time into realistic time\n",
    "races[\"winningTime\"] = races[\"winningTime\"].replace(0.00,np.nan)\n",
    "races[\"winningTime\"].fillna(races[\"winningTime\"].median(),inplace=True)"
   ]
  },
  {
   "cell_type": "code",
   "execution_count": 135,
   "id": "c6e1559f-daa7-4d63-ae45-0aae79f54cb3",
   "metadata": {
    "scrolled": true
   },
   "outputs": [
    {
     "data": {
      "text/plain": [
       "metric\n",
       "1609.0    2129\n",
       "1206.0    1950\n",
       "1407.0    1646\n",
       "1005.0     970\n",
       "2011.0     885\n",
       "3218.0     881\n",
       "2413.0     647\n",
       "4022.0     414\n",
       "1709.5     394\n",
       "3318.5     359\n",
       "1810.0     323\n",
       "4827.0     260\n",
       "3419.0     259\n",
       "1105.5     257\n",
       "3921.5     238\n",
       "1910.5     231\n",
       "1306.5     209\n",
       "3620.0     181\n",
       "4122.5     180\n",
       "2815.0     180\n",
       "4223.0     172\n",
       "1507.5     161\n",
       "3821.0     156\n",
       "2111.5     148\n",
       "2212.0     136\n",
       "3519.5     126\n",
       "3116.5     126\n",
       "4323.5     119\n",
       "2513.5     110\n",
       "4725.5     106\n",
       "4424.0      91\n",
       "5028.0      77\n",
       "4927.5      76\n",
       "4524.5      69\n",
       "2312.5      64\n",
       "4625.0      64\n",
       "3720.5      62\n",
       "5229.0      56\n",
       "3016.0      49\n",
       "2614.0      44\n",
       "5128.5      41\n",
       "2714.5      37\n",
       "5329.5      31\n",
       "2915.5      17\n",
       "904.5       15\n",
       "804.0       11\n",
       "5731.5       8\n",
       "5832.0       8\n",
       "5430.0       6\n",
       "6033.0       5\n",
       "5530.5       3\n",
       "6133.5       2\n",
       "5932.5       1\n",
       "6838.0       1\n",
       "6637.0       1\n",
       "5631.0       1\n",
       "6436.0       1\n",
       "Name: count, dtype: int64"
      ]
     },
     "execution_count": 135,
     "metadata": {},
     "output_type": "execute_result"
    }
   ],
   "source": [
    "races[\"metric\"].value_counts()"
   ]
  },
  {
   "cell_type": "code",
   "execution_count": 137,
   "id": "76e2a7b3-681d-4e8a-bd8e-fb34d6f53518",
   "metadata": {},
   "outputs": [],
   "source": [
    "# coverting race distance into group\n",
    "\n",
    "def race_dist(dist):\n",
    "    if dist <=1400:\n",
    "        return \"short\"\n",
    "    elif dist<=2400:\n",
    "        return \"medium\"\n",
    "    else:\n",
    "        return \"long\"\n",
    "\n",
    "races[\"meters\"] =races[\"metric\"].apply(race_dist)"
   ]
  },
  {
   "cell_type": "code",
   "execution_count": null,
   "id": "17f2854a-e144-4b30-8c6d-25c88d65e407",
   "metadata": {},
   "outputs": [],
   "source": []
  }
 ],
 "metadata": {
  "kernelspec": {
   "display_name": "Python 3 (ipykernel)",
   "language": "python",
   "name": "python3"
  },
  "language_info": {
   "codemirror_mode": {
    "name": "ipython",
    "version": 3
   },
   "file_extension": ".py",
   "mimetype": "text/x-python",
   "name": "python",
   "nbconvert_exporter": "python",
   "pygments_lexer": "ipython3",
   "version": "3.12.4"
  }
 },
 "nbformat": 4,
 "nbformat_minor": 5
}
